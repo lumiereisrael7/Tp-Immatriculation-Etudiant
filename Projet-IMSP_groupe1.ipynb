{
 "cells": [
  {
   "cell_type": "markdown",
   "metadata": {},
   "source": [
    "# <center style=\"color: purple\">Mini projet: Immatriculation des étudiants.<center>"
   ]
  },
  {
   "cell_type": "markdown",
   "metadata": {},
   "source": [
    "### <span style=\"color: orange\"><b>Membres du groupe:</b></span> <br><br>Adeyemi Kolawolé<br><br> Boukary Chabi Fawaz<br><br> Godonou Israël<br><br> Hounsa Dexiste"
   ]
  },
  {
   "cell_type": "code",
   "execution_count": null,
   "metadata": {},
   "outputs": [],
   "source": [
    "# Ces deux variables sont utilisés pour stocker la liste des étudiants enrégistrés et les matricules(deux premiers champs)\n",
    "\n",
    "\n",
    "#Ceci permettra d'enregistrer les matricules(les deux premiers champs sans le troisieme champ supplémentaire). C'est un dictionnaire dont les clés correspondent aux deux premiers champs des matricules existants et la valeur des clés correspond au nombre de personnes dont les deux permiers champ du matricule sont identiques.\n",
    "Mle = {} \n",
    "\n",
    "#Ceci permettra d'enrégistrer la liste des étudiant inscrits dans notre base. Chaque élément de la liste est un dictionnaire qui permettra d'enrégistrer le nom, prénom et le matricule d'un étudiant.\n",
    "Etudiant = [] "
   ]
  },
  {
   "cell_type": "markdown",
   "metadata": {},
   "source": [
    "<p>La procédure <code>inserer(dicti, matricule)</code> permet d'insérer dans notre dictionnaire Mle un nouveau matricule(Les deux premiers champs). Si ce matricule est déjà présent comme clé dans le dictionnaire, on incrémente sa valeur. Sinon on crée un nouvel élément dont la clé est le matricule à insérer et dont la valeur est initialisé à un.</p>"
   ]
  },
  {
   "cell_type": "code",
   "execution_count": null,
   "metadata": {},
   "outputs": [],
   "source": [
    "def inserer(dicti, matricule):\n",
    "    Find = False\n",
    "    \n",
    "    # On vérifie si matricule apparait déjà comme une clé dans le dictionnaire\n",
    "    if matricule in dicti.keys():\n",
    "        dicti[matricule] += 1\n",
    "        Find = True\n",
    "    \n",
    "    #Sinon on crée un nouvel élément\n",
    "    if Find == False:\n",
    "        dicti[matricule] = 1"
   ]
  },
  {
   "cell_type": "markdown",
   "metadata": {},
   "source": [
    "<p>La fonction <code>extractFromNamePren(nom, prenom)</code> permet de trouver les deux premiers champs du matricule correspondant au nom et prénom qu'on lui donne en argument et insere le resultat dans la variable globale, Mle.</p>"
   ]
  },
  {
   "cell_type": "code",
   "execution_count": null,
   "metadata": {},
   "outputs": [],
   "source": [
    "def extractFromNamePren(nom, prenom):\n",
    "    j = 0\n",
    "    Nom = '' # Cette chaine stocke au fur et à mesure le matricule construit\n",
    "    \n",
    "    # On extrait les trois premieres consonnes.\n",
    "    for i in nom.upper() :\n",
    "        if j < 3:\n",
    "            if i in 'AEIOUY':\n",
    "                continue\n",
    "            Nom += str(i)\n",
    "            j += 1\n",
    "    \n",
    "    # On complete les consonnes s'ils en manquaient\n",
    "    for i in range(j, 3):\n",
    "        Nom += 'X'\n",
    "    \n",
    "    # On concatene la chaine Nom avec les trois premiers caracteres du prenom\n",
    "    Nom += prenom[:3]\n",
    "    \n",
    "    # On complete les caracteres s'ils en manquaient\n",
    "    for i in range(len(Nom), 6):\n",
    "        Nom += 'X'\n",
    "    \n",
    "    Nom = Nom.upper()\n",
    "    \n",
    "    # On insère matricule formé dans Mle\n",
    "    inserer(Mle, Nom)\n",
    "    \n",
    "    return Nom"
   ]
  },
  {
   "cell_type": "markdown",
   "metadata": {},
   "source": [
    "<p>Cette fonction prend en argument un nombre et renvoie une chaine de caractère(3 caracteres) correspondant au nombre. Par exemple <code>numberString(5) = '005'</code>. C'est cette fonction qui, quand on lui passe la valeur d'une clé du dictionnaire Mle renvoie donc le troisème champ du matricule</p>"
   ]
  },
  {
   "cell_type": "code",
   "execution_count": null,
   "metadata": {},
   "outputs": [],
   "source": [
    "def numberString(x):\n",
    "    if int(x) < 10:\n",
    "        return '00' + str(x)\n",
    "    elif int(x) < 100:\n",
    "        return '0' + str(x)\n",
    "    elif int(x) < 1000:\n",
    "        return str(x)"
   ]
  },
  {
   "cell_type": "markdown",
   "metadata": {},
   "source": [
    "<p>Finalement la fonction <code>assignMle(nom, prenom)</code> est celle qui, quand elle recoit un nom et prenom, appelle nos differentes fonctions et retourne le matricule complet correspondant au nom et prenom pris en argument.</p>"
   ]
  },
  {
   "cell_type": "code",
   "execution_count": null,
   "metadata": {},
   "outputs": [],
   "source": [
    "def assignMle(nom, prenom):\n",
    "    Nom = extractFromNamePren(nom, prenom)\n",
    "    return Nom + numberString(Mle[Nom])"
   ]
  },
  {
   "cell_type": "code",
   "execution_count": null,
   "metadata": {},
   "outputs": [],
   "source": [
    "# Cette fonction affiche le menu\n",
    "\n",
    "def printMenu():\n",
    "    \"\"\"Le menu de notre application\"\"\"\n",
    "    print('')\n",
    "    print('')\n",
    "    print('1- Obtenez un matricule')\n",
    "    print('')\n",
    "    \n",
    "    print('2- Afficher la liste des étudiants enrégistrés')\n",
    "    print('')\n",
    "    \n",
    "    print('3- Modifiez vos informations')\n",
    "    print('')\n",
    "    \n",
    "    print('4- Quitter')\n",
    "    print('')\n",
    "    return int(input('Entrez votre choix: '))\n",
    "\n",
    "def enterInformation():\n",
    "    \"\"\"Cette procedure recupere les nom et prenom et les affiche avec le matricule correspondant\"\"\"\n",
    "    \n",
    "    # Ce dictionnaire est unique par etudiant et retient les informations d'un etudiant\n",
    "    Etu = {'nom': '', 'prenom': ''} \n",
    "    \n",
    "    # On recupere les informations de l'etudiant en s'assurant que ce sont des b=caracteres alphabetiques\n",
    "    nom = input('Entrez votre nom: ')\n",
    "    while not nom.isalpha():\n",
    "        nom = input('Entrez un nom valide: ')\n",
    "    Etu['nom'] = nom.upper()\n",
    "    \n",
    "    prenom = input('Entrez votre prenom: ')\n",
    "    while not prenom.isalpha():\n",
    "        prenom = input('Entrez un prenom valide: ')\n",
    "    Etu['prenom'] = prenom\n",
    "    \n",
    "    # On assigne de matricule à l'etudiant et on l'enregistre dans son dictionnaire personnel dans un champs dont la clé est 'mle'\n",
    "    Etu['mle'] = assignMle(Etu['nom'], Etu['prenom'])\n",
    "    \n",
    "    # On ajoute l'étudiant dans la liste de nos étudiants\n",
    "    Etudiant.append(Etu)\n",
    "    \n",
    "    # On affiche les informations de l'etudiant\n",
    "    print('')\n",
    "    print('')\n",
    "    print('Vos informations: ')\n",
    "    print(Etu['nom'], Etu['prenom'], Etu['mle'])\n",
    "    print('')\n",
    "    \n",
    "def printList():\n",
    "    \"\"\"Cette fonction affiche la liste des etudiants enrégistrés\"\"\"\n",
    "    \n",
    "    print('La liste des étudiants enrégistré: ')\n",
    "    \n",
    "    j = 1\n",
    "    if len(Etudiant) > 0:\n",
    "        print('Matricule', '\\t', 'Nom', '\\t', 'Prenom')\n",
    "        for i in Etudiant:\n",
    "            print(j, '-', i['mle'], i['nom'], i['prenom'])\n",
    "            j += 1\n",
    "    else:\n",
    "        print(\"Aucun étudiant n'est encore enregistré\")\n",
    "        \n",
    "\n",
    "def updateEntry():\n",
    "    \"\"\"Cette procedure met a jour les informations d'un etudiant a partir de son numero matricule\"\"\"\n",
    "    mle = input('Entrez votre matricule: ')\n",
    "    Find = False\n",
    "    \n",
    "    for i in Etudiant:\n",
    "        if mle == i['mle']:\n",
    "            Find = True\n",
    "            nom = input('Entrez votre nom (Caractere alphabetique uniquement): ')\n",
    "            while not nom.isalpha():\n",
    "                nom = input('Entrez un nom valide (Caractere alphabetique uniquement): ')\n",
    "            i['nom'] = nom\n",
    "    \n",
    "            prenom = input('Entrez votre prenom(Caractere alphabetique uniquement): ')\n",
    "            while not prenom.isalpha():\n",
    "                prenom = input('Entrez un prenom valide(Caractere alphabetique uniquement): ')\n",
    "            i['prenom'] = prenom\n",
    "\n",
    "            i['mle'] = assignMle(nom, prenom)\n",
    "            print('')\n",
    "            print('')\n",
    "            print(i['nom'], i['prenom'], i['mle'])\n",
    "            print('')\n",
    "            print('Vos informations ont bien été modifiées ')\n",
    "            break\n",
    "            \n",
    "    if not Find:\n",
    "        print(\"Vous n'etes pas dans notre liste\")\n",
    "            \n",
    "        "
   ]
  },
  {
   "cell_type": "code",
   "execution_count": null,
   "metadata": {},
   "outputs": [],
   "source": [
    "def Menu():\n",
    "    \"\"\"Ce programme vous aide à attribuer un numero matricule à un étudiant suite à la saisie de son nom et prenom\"\"\"\n",
    "    \n",
    "    print('Hi!!!')\n",
    "    print(help(Menu))\n",
    "    \n",
    "    while True:\n",
    "        if printMenu() == 1:\n",
    "            enterInformation()\n",
    "        elif printMenu() == 2:\n",
    "            printList()\n",
    "        elif printMenu() == 3:\n",
    "            updateEntry()\n",
    "        elif printMenu() == 4:\n",
    "            print('')\n",
    "            print('Aurevoir')\n",
    "            print('')\n",
    "            break;\n",
    "        else:\n",
    "            print('')\n",
    "            print('Entrez un bon choix: ')"
   ]
  },
  {
   "cell_type": "markdown",
   "metadata": {},
   "source": [
    "<p>Essayons notre programme</p>"
   ]
  },
  {
   "cell_type": "code",
   "execution_count": null,
   "metadata": {},
   "outputs": [],
   "source": [
    "Menu()"
   ]
  }
 ],
 "metadata": {
  "kernelspec": {
   "display_name": "Python 3",
   "language": "python",
   "name": "python3"
  }
 },
 "nbformat": 4,
 "nbformat_minor": 4
}
